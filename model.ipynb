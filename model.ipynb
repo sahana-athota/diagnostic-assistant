{
 "cells": [
  {
   "cell_type": "code",
   "execution_count": null,
   "metadata": {},
   "outputs": [],
   "source": [
    "import pandas as pd\n",
    "from sklearn.model_selection import train_test_split\n",
    "from sklearn.ensemble import RandomForestClassifier\n",
    "\n",
    "def mod():\n",
    "    df = pd.read_csv(\"symbipredict_2022.csv\")  \n",
    "\n",
    "    X = df.iloc[:, :-1]  \n",
    "    y = df.iloc[:, -1]  \n",
    "\n",
    "    X_train, X_test, y_train, y_test = train_test_split(X, y, test_size=0.2, random_state=42)\n",
    "\n",
    "    model = RandomForestClassifier(\n",
    "        n_estimators=200,\n",
    "        class_weight='balanced',\n",
    "        max_depth=5, \n",
    "        random_state=42\n",
    "    )\n",
    "\n",
    "    model.fit(X_train, y_train)\n",
    "    return model\n",
    "\n"
   ]
  }
 ],
 "metadata": {
  "language_info": {
   "name": "python"
  }
 },
 "nbformat": 4,
 "nbformat_minor": 2
}
